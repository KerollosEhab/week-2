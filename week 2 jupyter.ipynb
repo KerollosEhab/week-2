{
 "cells": [
  {
   "cell_type": "code",
   "execution_count": 3,
   "metadata": {},
   "outputs": [
    {
     "name": "stdout",
     "output_type": "stream",
     "text": [
      "name is k and id is 1\n",
      "name is m and id is 2\n",
      "name is i and id is 3\n"
     ]
    }
   ],
   "source": [
    "#this is the first_task\n",
    "name= [0]*3\n",
    "id=[0]*3\n",
    "age=[0]*3\n",
    "faculty=[0]*3\n",
    "for i in range(3):\n",
    "    name[i]=input(\"enter your name\")\n",
    "    id[i]=input(\"enter your id\")\n",
    "    age[i]=input(\"enter your age\")\n",
    "    faculty[i]=input(\"enter your faculty\")\n",
    "for i in range(3):\n",
    "    print(f\"name is {name[i]}, id is {id[i]}, age is {age[i]}, faculty is {faculty[i]}\")"
   ]
  },
  {
   "cell_type": "code",
   "execution_count": 2,
   "metadata": {},
   "outputs": [
    {
     "name": "stdout",
     "output_type": "stream",
     "text": [
      "2\n"
     ]
    }
   ],
   "source": []
  },
  {
   "cell_type": "code",
   "execution_count": null,
   "metadata": {},
   "outputs": [],
   "source": []
  }
 ],
 "metadata": {
  "kernelspec": {
   "display_name": "Python 3",
   "language": "python",
   "name": "python3"
  },
  "language_info": {
   "codemirror_mode": {
    "name": "ipython",
    "version": 3
   },
   "file_extension": ".py",
   "mimetype": "text/x-python",
   "name": "python",
   "nbconvert_exporter": "python",
   "pygments_lexer": "ipython3",
   "version": "3.10.6"
  },
  "orig_nbformat": 4,
  "vscode": {
   "interpreter": {
    "hash": "8a5edab282632443219e051e4ade2d1d5bbc671c781051bf1437897cbdfea0f1"
   }
  }
 },
 "nbformat": 4,
 "nbformat_minor": 2
}
